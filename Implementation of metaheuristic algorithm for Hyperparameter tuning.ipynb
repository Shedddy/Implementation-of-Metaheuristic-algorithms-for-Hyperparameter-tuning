{
 "cells": [
  {
   "cell_type": "markdown",
   "id": "bf0c332d",
   "metadata": {},
   "source": [
    "#### IMPORT NECESSARY LIBRARIES"
   ]
  },
  {
   "cell_type": "code",
   "execution_count": 109,
   "id": "6ae3a2c6",
   "metadata": {},
   "outputs": [],
   "source": [
    "from sklearn.svm import SVR #Regression Model\n",
    "import pandas as pd # For data wrangling\n",
    "from sklearn.model_selection import train_test_split # For data splitting\n",
    "from sklearn.preprocessing import StandardScaler # For normal distribution of the data \n",
    "from sklearn.metrics import mean_squared_error,r2_score # For model evaluation\n",
    "from mealpy.evolutionary_based.GA import BaseGA # metaheuristic algorithm for optimization and hyperparameter tuning\n",
    "import numpy as np # for mathematical manipulation"
   ]
  },
  {
   "cell_type": "code",
   "execution_count": 110,
   "id": "0b54cbe6",
   "metadata": {},
   "outputs": [
    {
     "data": {
      "text/html": [
       "<div>\n",
       "<style scoped>\n",
       "    .dataframe tbody tr th:only-of-type {\n",
       "        vertical-align: middle;\n",
       "    }\n",
       "\n",
       "    .dataframe tbody tr th {\n",
       "        vertical-align: top;\n",
       "    }\n",
       "\n",
       "    .dataframe thead th {\n",
       "        text-align: right;\n",
       "    }\n",
       "</style>\n",
       "<table border=\"1\" class=\"dataframe\">\n",
       "  <thead>\n",
       "    <tr style=\"text-align: right;\">\n",
       "      <th></th>\n",
       "      <th>X1</th>\n",
       "      <th>X2</th>\n",
       "      <th>X3</th>\n",
       "      <th>X4</th>\n",
       "      <th>Y</th>\n",
       "    </tr>\n",
       "  </thead>\n",
       "  <tbody>\n",
       "    <tr>\n",
       "      <th>0</th>\n",
       "      <td>80</td>\n",
       "      <td>5</td>\n",
       "      <td>105</td>\n",
       "      <td>10.5</td>\n",
       "      <td>51.68</td>\n",
       "    </tr>\n",
       "    <tr>\n",
       "      <th>1</th>\n",
       "      <td>60</td>\n",
       "      <td>3</td>\n",
       "      <td>105</td>\n",
       "      <td>10.5</td>\n",
       "      <td>59.89</td>\n",
       "    </tr>\n",
       "    <tr>\n",
       "      <th>2</th>\n",
       "      <td>60</td>\n",
       "      <td>3</td>\n",
       "      <td>105</td>\n",
       "      <td>10.5</td>\n",
       "      <td>61.09</td>\n",
       "    </tr>\n",
       "    <tr>\n",
       "      <th>3</th>\n",
       "      <td>40</td>\n",
       "      <td>3</td>\n",
       "      <td>60</td>\n",
       "      <td>10.5</td>\n",
       "      <td>49.56</td>\n",
       "    </tr>\n",
       "    <tr>\n",
       "      <th>4</th>\n",
       "      <td>40</td>\n",
       "      <td>3</td>\n",
       "      <td>150</td>\n",
       "      <td>10.5</td>\n",
       "      <td>58.02</td>\n",
       "    </tr>\n",
       "  </tbody>\n",
       "</table>\n",
       "</div>"
      ],
      "text/plain": [
       "   X1  X2   X3    X4      Y\n",
       "0  80   5  105  10.5  51.68\n",
       "1  60   3  105  10.5  59.89\n",
       "2  60   3  105  10.5  61.09\n",
       "3  40   3   60  10.5  49.56\n",
       "4  40   3  150  10.5  58.02"
      ]
     },
     "execution_count": 110,
     "metadata": {},
     "output_type": "execute_result"
    }
   ],
   "source": [
    "data=pd.read_excel(r\"C:\\Users\\USER\\Desktop\\Biodiesel Yield\\data 1.xlsx\")\n",
    "data.head()"
   ]
  },
  {
   "cell_type": "markdown",
   "id": "ef44512d",
   "metadata": {},
   "source": [
    "#### SEPARATING DATA INTO FEATURES AND TARGET"
   ]
  },
  {
   "cell_type": "code",
   "execution_count": 111,
   "id": "0e02ddd6",
   "metadata": {},
   "outputs": [],
   "source": [
    "X=data.drop(columns=\"Y\")\n",
    "y=data[\"Y\"]"
   ]
  },
  {
   "cell_type": "code",
   "execution_count": 112,
   "id": "51d56ef9",
   "metadata": {},
   "outputs": [
    {
     "name": "stdout",
     "output_type": "stream",
     "text": [
      "(23, 4)\n",
      "(23, 1)\n"
     ]
    }
   ],
   "source": [
    "X1=X.values\n",
    "y1=y.values.reshape(-1,1)\n",
    "X_train1, X_test1, y_train1, y_test1= train_test_split(X1, y1, test_size=0.2, random_state=8)\n",
    "\n",
    "sc=StandardScaler() # For normal distribution of data\n",
    "X_train1=sc.fit_transform(X_train1)\n",
    "X_test1=sc.transform(X_test1)\n",
    "x_df=sc.transform(X1)\n",
    "\n",
    "sc_y=StandardScaler()\n",
    "y_train1=sc_y.fit_transform(y_train1)\n",
    "y_test1=sc_y.transform(y_test1)\n",
    "y_df=sc_y.transform(y1)\n",
    "\n",
    "print(X_train1.shape)\n",
    "print(y_train1.shape)"
   ]
  },
  {
   "cell_type": "code",
   "execution_count": 171,
   "id": "4cf1c1f5",
   "metadata": {},
   "outputs": [],
   "source": [
    "# Define the SVR fitness function\n",
    "def svr_fitness(solution):\n",
    "    kernel_encoded = int(solution[0])\n",
    "    c = solution[1]\n",
    "    gamma = solution[2]\n",
    "    epsilon = solution[3]\n",
    "    \n",
    "    kernel_decoded = ['linear', 'poly', 'rbf', 'precomputed'][kernel_encoded]\n",
    "    \n",
    "    svr = SVR(C=c, kernel=kernel_decoded, gamma=gamma, epsilon=epsilon)\n",
    "    svr.fit(X_train1, y_train1.ravel())\n",
    "    y_predict = svr.predict(X_test1)\n",
    "    fitness = -r2_score(y_test1, y_predict)  # Minimize negative R^2 score\n",
    "    return fitness"
   ]
  },
  {
   "cell_type": "code",
   "execution_count": 172,
   "id": "fd8b5544",
   "metadata": {},
   "outputs": [],
   "source": [
    "# Define the hyperparameter bounds\n",
    "param_bounds = {\n",
    "    \"kernel\": [0, 1, 2, 3],  # 0: linear, 1: poly, 2: rbf 3: precomputed\n",
    "    \"C\": list(range(100, 1001, 100)),\n",
    "    \"gamma\": list(np.logspace(-10, 0, 10)),\n",
    "    \"epsilon\": list(np.logspace(-3, 0, 10))\n",
    "}"
   ]
  },
  {
   "cell_type": "code",
   "execution_count": 182,
   "id": "e0337197",
   "metadata": {},
   "outputs": [],
   "source": [
    "# Define the optimization problem dictionary\n",
    "svr_problem = {\n",
    "    \"fit_func\": svr_fitness,\n",
    "    \"lb\": [min(param_bounds[\"kernel\"]), min(param_bounds[\"C\"]), min(param_bounds[\"gamma\"]), min(param_bounds[\"epsilon\"])],\n",
    "    \"ub\": [max(param_bounds[\"kernel\"]), max(param_bounds[\"C\"]), max(param_bounds[\"gamma\"]), max(param_bounds[\"epsilon\"])],\n",
    "    \"minmax\": \"min\"  # Minimize fitness (negative R^2)\n",
    "}\n",
    "\n",
    "# lb : lower boundary of hyperparameter values\n",
    "# ub : upper boundary of hyperparameter values\n",
    "# fit_func : Fitness Function, SVR(), in this case.\n",
    "# minmax : minimization and maximization"
   ]
  },
  {
   "cell_type": "code",
   "execution_count": 183,
   "id": "af27f14c",
   "metadata": {},
   "outputs": [],
   "source": [
    "# Create the genetic algorithm model using mealpy\n",
    "\n",
    "epoch = 50 # No of epochs/iterations\n",
    "pop_size = 100 # Population size\n",
    "pc = 0.95 # probabilty of crossover\n",
    "pm = 0.05 # probability of mutation\n",
    "ga_model = BaseGA(epoch, pop_size, pc, pm)"
   ]
  },
  {
   "cell_type": "code",
   "execution_count": 175,
   "id": "be8b06ee",
   "metadata": {
    "scrolled": true
   },
   "outputs": [
    {
     "name": "stderr",
     "output_type": "stream",
     "text": [
      "2023/08/08 09:52:33 AM, INFO, mealpy.evolutionary_based.GA.BaseGA: Solving single objective optimization problem.\n",
      "2023/08/08 09:52:38 AM, INFO, mealpy.evolutionary_based.GA.BaseGA: >Problem: P, Epoch: 1, Current best: -0.9307344690034542, Global best: -0.9307344690034542, Runtime: 2.57250 seconds\n",
      "2023/08/08 09:52:39 AM, INFO, mealpy.evolutionary_based.GA.BaseGA: >Problem: P, Epoch: 2, Current best: -0.930734469003473, Global best: -0.930734469003473, Runtime: 0.93901 seconds\n",
      "2023/08/08 09:52:40 AM, INFO, mealpy.evolutionary_based.GA.BaseGA: >Problem: P, Epoch: 3, Current best: -0.9353459375974014, Global best: -0.9353459375974014, Runtime: 1.27198 seconds\n",
      "2023/08/08 09:52:40 AM, INFO, mealpy.evolutionary_based.GA.BaseGA: >Problem: P, Epoch: 4, Current best: -0.9358606377323686, Global best: -0.9358606377323686, Runtime: 0.47774 seconds\n",
      "2023/08/08 09:52:41 AM, INFO, mealpy.evolutionary_based.GA.BaseGA: >Problem: P, Epoch: 5, Current best: -0.9359828319024812, Global best: -0.9359828319024812, Runtime: 0.36192 seconds\n",
      "2023/08/08 09:52:41 AM, INFO, mealpy.evolutionary_based.GA.BaseGA: >Problem: P, Epoch: 6, Current best: -0.9359828319024871, Global best: -0.9359828319024871, Runtime: 0.25040 seconds\n",
      "2023/08/08 09:52:42 AM, INFO, mealpy.evolutionary_based.GA.BaseGA: >Problem: P, Epoch: 7, Current best: -0.9712124153416601, Global best: -0.9712124153416601, Runtime: 0.76587 seconds\n",
      "2023/08/08 09:52:42 AM, INFO, mealpy.evolutionary_based.GA.BaseGA: >Problem: P, Epoch: 8, Current best: -0.9712124153416879, Global best: -0.9712124153416879, Runtime: 0.27710 seconds\n",
      "2023/08/08 09:52:42 AM, INFO, mealpy.evolutionary_based.GA.BaseGA: >Problem: P, Epoch: 9, Current best: -0.9712124153416879, Global best: -0.9712124153416879, Runtime: 0.22037 seconds\n",
      "2023/08/08 09:52:42 AM, INFO, mealpy.evolutionary_based.GA.BaseGA: >Problem: P, Epoch: 10, Current best: -0.9712124153416879, Global best: -0.9712124153416879, Runtime: 0.19917 seconds\n",
      "2023/08/08 09:52:43 AM, INFO, mealpy.evolutionary_based.GA.BaseGA: >Problem: P, Epoch: 11, Current best: -0.9712124153416879, Global best: -0.9712124153416879, Runtime: 0.33199 seconds\n",
      "2023/08/08 09:52:43 AM, INFO, mealpy.evolutionary_based.GA.BaseGA: >Problem: P, Epoch: 12, Current best: -0.9712124153416879, Global best: -0.9712124153416879, Runtime: 0.30803 seconds\n",
      "2023/08/08 09:52:43 AM, INFO, mealpy.evolutionary_based.GA.BaseGA: >Problem: P, Epoch: 13, Current best: -0.9714442498738806, Global best: -0.9714442498738806, Runtime: 0.35500 seconds\n",
      "2023/08/08 09:52:44 AM, INFO, mealpy.evolutionary_based.GA.BaseGA: >Problem: P, Epoch: 14, Current best: -0.9714442498738965, Global best: -0.9714442498738965, Runtime: 0.37638 seconds\n",
      "2023/08/08 09:52:44 AM, INFO, mealpy.evolutionary_based.GA.BaseGA: >Problem: P, Epoch: 15, Current best: -0.9714442498738965, Global best: -0.9714442498738965, Runtime: 0.41148 seconds\n",
      "2023/08/08 09:52:45 AM, INFO, mealpy.evolutionary_based.GA.BaseGA: >Problem: P, Epoch: 16, Current best: -0.9714442498738965, Global best: -0.9714442498738965, Runtime: 0.26096 seconds\n",
      "2023/08/08 09:52:45 AM, INFO, mealpy.evolutionary_based.GA.BaseGA: >Problem: P, Epoch: 17, Current best: -0.9714442498738965, Global best: -0.9714442498738965, Runtime: 0.17613 seconds\n",
      "2023/08/08 09:52:45 AM, INFO, mealpy.evolutionary_based.GA.BaseGA: >Problem: P, Epoch: 18, Current best: -0.9715924567350491, Global best: -0.9715924567350491, Runtime: 0.43829 seconds\n",
      "2023/08/08 09:52:45 AM, INFO, mealpy.evolutionary_based.GA.BaseGA: >Problem: P, Epoch: 19, Current best: -0.9780511673410401, Global best: -0.9780511673410401, Runtime: 0.19720 seconds\n",
      "2023/08/08 09:52:46 AM, INFO, mealpy.evolutionary_based.GA.BaseGA: >Problem: P, Epoch: 20, Current best: -0.9780511673410401, Global best: -0.9780511673410401, Runtime: 0.28246 seconds\n",
      "2023/08/08 09:52:46 AM, INFO, mealpy.evolutionary_based.GA.BaseGA: >Problem: P, Epoch: 21, Current best: -0.9780511673411647, Global best: -0.9780511673411647, Runtime: 0.19152 seconds\n",
      "2023/08/08 09:52:46 AM, INFO, mealpy.evolutionary_based.GA.BaseGA: >Problem: P, Epoch: 22, Current best: -0.9780511673411647, Global best: -0.9780511673411647, Runtime: 0.31480 seconds\n",
      "2023/08/08 09:52:46 AM, INFO, mealpy.evolutionary_based.GA.BaseGA: >Problem: P, Epoch: 23, Current best: -0.9780511673411647, Global best: -0.9780511673411647, Runtime: 0.22629 seconds\n",
      "2023/08/08 09:52:47 AM, INFO, mealpy.evolutionary_based.GA.BaseGA: >Problem: P, Epoch: 24, Current best: -0.9780511673411691, Global best: -0.9780511673411691, Runtime: 0.37729 seconds\n",
      "2023/08/08 09:52:47 AM, INFO, mealpy.evolutionary_based.GA.BaseGA: >Problem: P, Epoch: 25, Current best: -0.9780511673411691, Global best: -0.9780511673411691, Runtime: 0.18716 seconds\n",
      "2023/08/08 09:52:47 AM, INFO, mealpy.evolutionary_based.GA.BaseGA: >Problem: P, Epoch: 26, Current best: -0.9780511673411691, Global best: -0.9780511673411691, Runtime: 0.22287 seconds\n",
      "2023/08/08 09:52:47 AM, INFO, mealpy.evolutionary_based.GA.BaseGA: >Problem: P, Epoch: 27, Current best: -0.9780511673411691, Global best: -0.9780511673411691, Runtime: 0.23579 seconds\n",
      "2023/08/08 09:52:48 AM, INFO, mealpy.evolutionary_based.GA.BaseGA: >Problem: P, Epoch: 28, Current best: -0.9780511673411691, Global best: -0.9780511673411691, Runtime: 0.22054 seconds\n",
      "2023/08/08 09:52:48 AM, INFO, mealpy.evolutionary_based.GA.BaseGA: >Problem: P, Epoch: 29, Current best: -0.9780511673411691, Global best: -0.9780511673411691, Runtime: 0.33508 seconds\n",
      "2023/08/08 09:52:48 AM, INFO, mealpy.evolutionary_based.GA.BaseGA: >Problem: P, Epoch: 30, Current best: -0.9780511673411691, Global best: -0.9780511673411691, Runtime: 0.22933 seconds\n",
      "2023/08/08 09:52:48 AM, INFO, mealpy.evolutionary_based.GA.BaseGA: >Problem: P, Epoch: 31, Current best: -0.9780511673411691, Global best: -0.9780511673411691, Runtime: 0.24802 seconds\n",
      "2023/08/08 09:52:49 AM, INFO, mealpy.evolutionary_based.GA.BaseGA: >Problem: P, Epoch: 32, Current best: -0.9780511673411691, Global best: -0.9780511673411691, Runtime: 0.32496 seconds\n",
      "2023/08/08 09:52:49 AM, INFO, mealpy.evolutionary_based.GA.BaseGA: >Problem: P, Epoch: 33, Current best: -0.9780511673411691, Global best: -0.9780511673411691, Runtime: 0.33440 seconds\n",
      "2023/08/08 09:52:49 AM, INFO, mealpy.evolutionary_based.GA.BaseGA: >Problem: P, Epoch: 34, Current best: -0.9780511673411691, Global best: -0.9780511673411691, Runtime: 0.33308 seconds\n",
      "2023/08/08 09:52:50 AM, INFO, mealpy.evolutionary_based.GA.BaseGA: >Problem: P, Epoch: 35, Current best: -0.9780511673411691, Global best: -0.9780511673411691, Runtime: 0.33929 seconds\n",
      "2023/08/08 09:52:50 AM, INFO, mealpy.evolutionary_based.GA.BaseGA: >Problem: P, Epoch: 36, Current best: -0.9780511673411691, Global best: -0.9780511673411691, Runtime: 0.25276 seconds\n",
      "2023/08/08 09:52:50 AM, INFO, mealpy.evolutionary_based.GA.BaseGA: >Problem: P, Epoch: 37, Current best: -0.978509667165826, Global best: -0.978509667165826, Runtime: 0.29744 seconds\n",
      "2023/08/08 09:52:51 AM, INFO, mealpy.evolutionary_based.GA.BaseGA: >Problem: P, Epoch: 38, Current best: -0.978509667165826, Global best: -0.978509667165826, Runtime: 0.26039 seconds\n",
      "2023/08/08 09:52:51 AM, INFO, mealpy.evolutionary_based.GA.BaseGA: >Problem: P, Epoch: 39, Current best: -0.978509667165826, Global best: -0.978509667165826, Runtime: 0.27333 seconds\n",
      "2023/08/08 09:52:51 AM, INFO, mealpy.evolutionary_based.GA.BaseGA: >Problem: P, Epoch: 40, Current best: -0.978509667165826, Global best: -0.978509667165826, Runtime: 0.40468 seconds\n",
      "2023/08/08 09:52:52 AM, INFO, mealpy.evolutionary_based.GA.BaseGA: >Problem: P, Epoch: 41, Current best: -0.978509667165826, Global best: -0.978509667165826, Runtime: 0.25396 seconds\n",
      "2023/08/08 09:52:52 AM, INFO, mealpy.evolutionary_based.GA.BaseGA: >Problem: P, Epoch: 42, Current best: -0.978509667165826, Global best: -0.978509667165826, Runtime: 0.50279 seconds\n",
      "2023/08/08 09:52:52 AM, INFO, mealpy.evolutionary_based.GA.BaseGA: >Problem: P, Epoch: 43, Current best: -0.978509667165826, Global best: -0.978509667165826, Runtime: 0.28713 seconds\n",
      "2023/08/08 09:52:53 AM, INFO, mealpy.evolutionary_based.GA.BaseGA: >Problem: P, Epoch: 44, Current best: -0.978509667165826, Global best: -0.978509667165826, Runtime: 0.26808 seconds\n"
     ]
    },
    {
     "name": "stderr",
     "output_type": "stream",
     "text": [
      "2023/08/08 09:52:53 AM, INFO, mealpy.evolutionary_based.GA.BaseGA: >Problem: P, Epoch: 45, Current best: -0.978509667165826, Global best: -0.978509667165826, Runtime: 0.61061 seconds\n",
      "2023/08/08 09:52:54 AM, INFO, mealpy.evolutionary_based.GA.BaseGA: >Problem: P, Epoch: 46, Current best: -0.978509667165826, Global best: -0.978509667165826, Runtime: 0.44779 seconds\n",
      "2023/08/08 09:52:54 AM, INFO, mealpy.evolutionary_based.GA.BaseGA: >Problem: P, Epoch: 47, Current best: -0.978509667165826, Global best: -0.978509667165826, Runtime: 0.18953 seconds\n",
      "2023/08/08 09:52:54 AM, INFO, mealpy.evolutionary_based.GA.BaseGA: >Problem: P, Epoch: 48, Current best: -0.978509667165826, Global best: -0.978509667165826, Runtime: 0.42666 seconds\n",
      "2023/08/08 09:52:55 AM, INFO, mealpy.evolutionary_based.GA.BaseGA: >Problem: P, Epoch: 49, Current best: -0.978509667165826, Global best: -0.978509667165826, Runtime: 0.33328 seconds\n",
      "2023/08/08 09:52:55 AM, INFO, mealpy.evolutionary_based.GA.BaseGA: >Problem: P, Epoch: 50, Current best: -0.978509667165826, Global best: -0.978509667165826, Runtime: 0.31106 seconds\n"
     ]
    }
   ],
   "source": [
    "# Solve the optimization problem using the genetic algorithm\n",
    "best_params, best_fitness = ga_model.solve(svr_problem)"
   ]
  },
  {
   "cell_type": "code",
   "execution_count": 176,
   "id": "45cb4e9c",
   "metadata": {},
   "outputs": [],
   "source": [
    "best_kernel_encoded = int(best_params[0])\n",
    "best_c = best_params[1]\n",
    "best_gamma = best_params[2]\n",
    "best_epsilon = best_params[3]\n",
    "best_kernel_decoded = ['linear', 'poly', 'rbf', 'precomputed'][best_kernel_encoded]"
   ]
  },
  {
   "cell_type": "code",
   "execution_count": 177,
   "id": "98799171",
   "metadata": {},
   "outputs": [
    {
     "name": "stdout",
     "output_type": "stream",
     "text": [
      "Best Hyperparameters:\n",
      "Kernel: rbf\n",
      "C: 813.6090169835028\n",
      "Gamma: 0.021132010324648277\n",
      "Epsilon: 0.03977309223580246\n",
      "Best Fitness (R^2): 0.978509667165826\n"
     ]
    }
   ],
   "source": [
    "print(\"Best Hyperparameters:\")\n",
    "print(\"Kernel:\", best_kernel_decoded)\n",
    "print(\"C:\", best_c)\n",
    "print(\"Gamma:\", best_gamma)\n",
    "print(\"Epsilon:\", best_epsilon)\n",
    "print(\"Best Fitness (R^2):\", -best_fitness)  # Convert back to positive (R^2)"
   ]
  },
  {
   "cell_type": "markdown",
   "id": "029e2f59",
   "metadata": {},
   "source": [
    "#### Now, let's Create our SVR() using the MEALPY GA optimized hyperparameters"
   ]
  },
  {
   "cell_type": "code",
   "execution_count": 184,
   "id": "e5476d27",
   "metadata": {},
   "outputs": [],
   "source": [
    "svr_optimized = SVR(kernel=best_kernel_decoded,C=best_c, gamma =best_gamma,epsilon = best_epsilon)"
   ]
  },
  {
   "cell_type": "code",
   "execution_count": 185,
   "id": "fb5ec908",
   "metadata": {},
   "outputs": [
    {
     "data": {
      "text/html": [
       "<style>#sk-container-id-15 {color: black;}#sk-container-id-15 pre{padding: 0;}#sk-container-id-15 div.sk-toggleable {background-color: white;}#sk-container-id-15 label.sk-toggleable__label {cursor: pointer;display: block;width: 100%;margin-bottom: 0;padding: 0.3em;box-sizing: border-box;text-align: center;}#sk-container-id-15 label.sk-toggleable__label-arrow:before {content: \"▸\";float: left;margin-right: 0.25em;color: #696969;}#sk-container-id-15 label.sk-toggleable__label-arrow:hover:before {color: black;}#sk-container-id-15 div.sk-estimator:hover label.sk-toggleable__label-arrow:before {color: black;}#sk-container-id-15 div.sk-toggleable__content {max-height: 0;max-width: 0;overflow: hidden;text-align: left;background-color: #f0f8ff;}#sk-container-id-15 div.sk-toggleable__content pre {margin: 0.2em;color: black;border-radius: 0.25em;background-color: #f0f8ff;}#sk-container-id-15 input.sk-toggleable__control:checked~div.sk-toggleable__content {max-height: 200px;max-width: 100%;overflow: auto;}#sk-container-id-15 input.sk-toggleable__control:checked~label.sk-toggleable__label-arrow:before {content: \"▾\";}#sk-container-id-15 div.sk-estimator input.sk-toggleable__control:checked~label.sk-toggleable__label {background-color: #d4ebff;}#sk-container-id-15 div.sk-label input.sk-toggleable__control:checked~label.sk-toggleable__label {background-color: #d4ebff;}#sk-container-id-15 input.sk-hidden--visually {border: 0;clip: rect(1px 1px 1px 1px);clip: rect(1px, 1px, 1px, 1px);height: 1px;margin: -1px;overflow: hidden;padding: 0;position: absolute;width: 1px;}#sk-container-id-15 div.sk-estimator {font-family: monospace;background-color: #f0f8ff;border: 1px dotted black;border-radius: 0.25em;box-sizing: border-box;margin-bottom: 0.5em;}#sk-container-id-15 div.sk-estimator:hover {background-color: #d4ebff;}#sk-container-id-15 div.sk-parallel-item::after {content: \"\";width: 100%;border-bottom: 1px solid gray;flex-grow: 1;}#sk-container-id-15 div.sk-label:hover label.sk-toggleable__label {background-color: #d4ebff;}#sk-container-id-15 div.sk-serial::before {content: \"\";position: absolute;border-left: 1px solid gray;box-sizing: border-box;top: 0;bottom: 0;left: 50%;z-index: 0;}#sk-container-id-15 div.sk-serial {display: flex;flex-direction: column;align-items: center;background-color: white;padding-right: 0.2em;padding-left: 0.2em;position: relative;}#sk-container-id-15 div.sk-item {position: relative;z-index: 1;}#sk-container-id-15 div.sk-parallel {display: flex;align-items: stretch;justify-content: center;background-color: white;position: relative;}#sk-container-id-15 div.sk-item::before, #sk-container-id-15 div.sk-parallel-item::before {content: \"\";position: absolute;border-left: 1px solid gray;box-sizing: border-box;top: 0;bottom: 0;left: 50%;z-index: -1;}#sk-container-id-15 div.sk-parallel-item {display: flex;flex-direction: column;z-index: 1;position: relative;background-color: white;}#sk-container-id-15 div.sk-parallel-item:first-child::after {align-self: flex-end;width: 50%;}#sk-container-id-15 div.sk-parallel-item:last-child::after {align-self: flex-start;width: 50%;}#sk-container-id-15 div.sk-parallel-item:only-child::after {width: 0;}#sk-container-id-15 div.sk-dashed-wrapped {border: 1px dashed gray;margin: 0 0.4em 0.5em 0.4em;box-sizing: border-box;padding-bottom: 0.4em;background-color: white;}#sk-container-id-15 div.sk-label label {font-family: monospace;font-weight: bold;display: inline-block;line-height: 1.2em;}#sk-container-id-15 div.sk-label-container {text-align: center;}#sk-container-id-15 div.sk-container {/* jupyter's `normalize.less` sets `[hidden] { display: none; }` but bootstrap.min.css set `[hidden] { display: none !important; }` so we also need the `!important` here to be able to override the default hidden behavior on the sphinx rendered scikit-learn.org. See: https://github.com/scikit-learn/scikit-learn/issues/21755 */display: inline-block !important;position: relative;}#sk-container-id-15 div.sk-text-repr-fallback {display: none;}</style><div id=\"sk-container-id-15\" class=\"sk-top-container\"><div class=\"sk-text-repr-fallback\"><pre>SVR(C=813.6090169835028, epsilon=0.03977309223580246,\n",
       "    gamma=0.021132010324648277)</pre><b>In a Jupyter environment, please rerun this cell to show the HTML representation or trust the notebook. <br />On GitHub, the HTML representation is unable to render, please try loading this page with nbviewer.org.</b></div><div class=\"sk-container\" hidden><div class=\"sk-item\"><div class=\"sk-estimator sk-toggleable\"><input class=\"sk-toggleable__control sk-hidden--visually\" id=\"sk-estimator-id-15\" type=\"checkbox\" checked><label for=\"sk-estimator-id-15\" class=\"sk-toggleable__label sk-toggleable__label-arrow\">SVR</label><div class=\"sk-toggleable__content\"><pre>SVR(C=813.6090169835028, epsilon=0.03977309223580246,\n",
       "    gamma=0.021132010324648277)</pre></div></div></div></div></div>"
      ],
      "text/plain": [
       "SVR(C=813.6090169835028, epsilon=0.03977309223580246,\n",
       "    gamma=0.021132010324648277)"
      ]
     },
     "execution_count": 185,
     "metadata": {},
     "output_type": "execute_result"
    }
   ],
   "source": [
    "svr_optimized.fit(X_train1, y_train1.ravel())"
   ]
  },
  {
   "cell_type": "code",
   "execution_count": 186,
   "id": "6140e84c",
   "metadata": {},
   "outputs": [],
   "source": [
    "pred_test = svr.predict(X_test1)"
   ]
  },
  {
   "cell_type": "code",
   "execution_count": 208,
   "id": "23c5ad78",
   "metadata": {},
   "outputs": [
    {
     "name": "stdout",
     "output_type": "stream",
     "text": [
      "R^2 score of Test set prediction using GA: 0.978509667165826\n",
      "R^2 score of Train set prediction using GA: 0.9789348583806831\n"
     ]
    }
   ],
   "source": [
    "from sklearn.metrics import r2_score\n",
    "print(\"R^2 score of Test set prediction using GA:\", r2_score(y_test1,pred_test))"
   ]
  },
  {
   "cell_type": "code",
   "execution_count": 205,
   "id": "48bc82cd",
   "metadata": {},
   "outputs": [
    {
     "name": "stdout",
     "output_type": "stream",
     "text": [
      "R^2 score of Train set prediction using GA: 0.9789348583806831\n"
     ]
    }
   ],
   "source": [
    "pred_train = svr.predict(X_train1)\n",
    "print(\"R^2 score of Train set prediction using GA:\", r2_score(y_train1,pred_train))"
   ]
  },
  {
   "cell_type": "code",
   "execution_count": null,
   "id": "0168b795",
   "metadata": {},
   "outputs": [],
   "source": []
  },
  {
   "cell_type": "markdown",
   "id": "8cf8f371",
   "metadata": {},
   "source": [
    "#### Now that we've seen how useful and powerful the genetic algorithm of the MEALPY library is, lets also try out one more optimization algorithm, Particle Swarm Optimization (PSO)"
   ]
  },
  {
   "cell_type": "code",
   "execution_count": 189,
   "id": "e85574dc",
   "metadata": {},
   "outputs": [],
   "source": [
    "from mealpy.swarm_based.PSO import CL_PSO #importing the PSO Library"
   ]
  },
  {
   "cell_type": "code",
   "execution_count": 190,
   "id": "128f3b75",
   "metadata": {},
   "outputs": [],
   "source": [
    "epoch = 50\n",
    "pop_size = 100\n",
    "c_local = 1.2\n",
    "w_min = 0.4\n",
    "w_max = 0.9\n",
    "max_flag = 7"
   ]
  },
  {
   "cell_type": "code",
   "execution_count": 194,
   "id": "cc408217",
   "metadata": {},
   "outputs": [],
   "source": [
    "pso_model = CL_PSO(epoch, pop_size, c_local, w_min, w_max, max_flag)"
   ]
  },
  {
   "cell_type": "code",
   "execution_count": 195,
   "id": "d907b2d5",
   "metadata": {
    "scrolled": true
   },
   "outputs": [
    {
     "name": "stderr",
     "output_type": "stream",
     "text": [
      "2023/08/08 10:15:24 AM, INFO, mealpy.swarm_based.PSO.CL_PSO: Solving single objective optimization problem.\n",
      "2023/08/08 10:15:27 AM, INFO, mealpy.swarm_based.PSO.CL_PSO: >Problem: P, Epoch: 1, Current best: -0.8551661748697635, Global best: -0.8551661748697635, Runtime: 1.50302 seconds\n",
      "2023/08/08 10:15:29 AM, INFO, mealpy.swarm_based.PSO.CL_PSO: >Problem: P, Epoch: 2, Current best: -0.8551661748697635, Global best: -0.8551661748697635, Runtime: 1.38361 seconds\n",
      "2023/08/08 10:15:30 AM, INFO, mealpy.swarm_based.PSO.CL_PSO: >Problem: P, Epoch: 3, Current best: -0.8551661748697635, Global best: -0.8551661748697635, Runtime: 1.45136 seconds\n",
      "2023/08/08 10:15:32 AM, INFO, mealpy.swarm_based.PSO.CL_PSO: >Problem: P, Epoch: 4, Current best: -0.8551661748697635, Global best: -0.8551661748697635, Runtime: 1.51826 seconds\n",
      "2023/08/08 10:15:34 AM, INFO, mealpy.swarm_based.PSO.CL_PSO: >Problem: P, Epoch: 5, Current best: -0.8551661748697635, Global best: -0.8551661748697635, Runtime: 2.03275 seconds\n",
      "2023/08/08 10:15:35 AM, INFO, mealpy.swarm_based.PSO.CL_PSO: >Problem: P, Epoch: 6, Current best: -0.8551661748697635, Global best: -0.8551661748697635, Runtime: 1.70323 seconds\n",
      "2023/08/08 10:15:37 AM, INFO, mealpy.swarm_based.PSO.CL_PSO: >Problem: P, Epoch: 7, Current best: -0.8551661748697635, Global best: -0.8551661748697635, Runtime: 1.29202 seconds\n",
      "2023/08/08 10:15:38 AM, INFO, mealpy.swarm_based.PSO.CL_PSO: >Problem: P, Epoch: 8, Current best: -0.8551661748697635, Global best: -0.8551661748697635, Runtime: 1.30940 seconds\n",
      "2023/08/08 10:15:39 AM, INFO, mealpy.swarm_based.PSO.CL_PSO: >Problem: P, Epoch: 9, Current best: -0.8551661748697635, Global best: -0.8551661748697635, Runtime: 1.13348 seconds\n",
      "2023/08/08 10:15:41 AM, INFO, mealpy.swarm_based.PSO.CL_PSO: >Problem: P, Epoch: 10, Current best: -0.8551661748697635, Global best: -0.8551661748697635, Runtime: 1.48909 seconds\n",
      "2023/08/08 10:15:42 AM, INFO, mealpy.swarm_based.PSO.CL_PSO: >Problem: P, Epoch: 11, Current best: -0.8551661748697635, Global best: -0.8551661748697635, Runtime: 0.98406 seconds\n",
      "2023/08/08 10:15:43 AM, INFO, mealpy.swarm_based.PSO.CL_PSO: >Problem: P, Epoch: 12, Current best: -0.8551661748697635, Global best: -0.8551661748697635, Runtime: 1.11401 seconds\n",
      "2023/08/08 10:15:44 AM, INFO, mealpy.swarm_based.PSO.CL_PSO: >Problem: P, Epoch: 13, Current best: -0.8551661748697635, Global best: -0.8551661748697635, Runtime: 1.46043 seconds\n",
      "2023/08/08 10:15:46 AM, INFO, mealpy.swarm_based.PSO.CL_PSO: >Problem: P, Epoch: 14, Current best: -0.8803839866677826, Global best: -0.8803839866677826, Runtime: 1.43844 seconds\n",
      "2023/08/08 10:15:47 AM, INFO, mealpy.swarm_based.PSO.CL_PSO: >Problem: P, Epoch: 15, Current best: -0.8803839866677826, Global best: -0.8803839866677826, Runtime: 1.17525 seconds\n",
      "2023/08/08 10:15:48 AM, INFO, mealpy.swarm_based.PSO.CL_PSO: >Problem: P, Epoch: 16, Current best: -0.8803839866677826, Global best: -0.8803839866677826, Runtime: 1.47366 seconds\n",
      "2023/08/08 10:15:49 AM, INFO, mealpy.swarm_based.PSO.CL_PSO: >Problem: P, Epoch: 17, Current best: -0.8941071936072994, Global best: -0.8941071936072994, Runtime: 1.08602 seconds\n",
      "2023/08/08 10:15:51 AM, INFO, mealpy.swarm_based.PSO.CL_PSO: >Problem: P, Epoch: 18, Current best: -0.8960245823511305, Global best: -0.8960245823511305, Runtime: 1.06896 seconds\n",
      "2023/08/08 10:15:52 AM, INFO, mealpy.swarm_based.PSO.CL_PSO: >Problem: P, Epoch: 19, Current best: -0.9558305569023439, Global best: -0.9558305569023439, Runtime: 1.08948 seconds\n",
      "2023/08/08 10:15:53 AM, INFO, mealpy.swarm_based.PSO.CL_PSO: >Problem: P, Epoch: 20, Current best: -0.9636627347273975, Global best: -0.9636627347273975, Runtime: 1.06011 seconds\n",
      "2023/08/08 10:15:54 AM, INFO, mealpy.swarm_based.PSO.CL_PSO: >Problem: P, Epoch: 21, Current best: -0.9644962424849841, Global best: -0.9644962424849841, Runtime: 0.91661 seconds\n",
      "2023/08/08 10:15:55 AM, INFO, mealpy.swarm_based.PSO.CL_PSO: >Problem: P, Epoch: 22, Current best: -0.9646775662235703, Global best: -0.9646775662235703, Runtime: 0.91448 seconds\n",
      "2023/08/08 10:15:56 AM, INFO, mealpy.swarm_based.PSO.CL_PSO: >Problem: P, Epoch: 23, Current best: -0.9646775662235703, Global best: -0.9646775662235703, Runtime: 1.23127 seconds\n",
      "2023/08/08 10:15:57 AM, INFO, mealpy.swarm_based.PSO.CL_PSO: >Problem: P, Epoch: 24, Current best: -0.9647564434251795, Global best: -0.9647564434251795, Runtime: 1.02627 seconds\n",
      "2023/08/08 10:15:59 AM, INFO, mealpy.swarm_based.PSO.CL_PSO: >Problem: P, Epoch: 25, Current best: -0.9647564434251795, Global best: -0.9647564434251795, Runtime: 2.55495 seconds\n",
      "2023/08/08 10:16:02 AM, INFO, mealpy.swarm_based.PSO.CL_PSO: >Problem: P, Epoch: 26, Current best: -0.9647564434251795, Global best: -0.9647564434251795, Runtime: 2.57574 seconds\n",
      "2023/08/08 10:16:04 AM, INFO, mealpy.swarm_based.PSO.CL_PSO: >Problem: P, Epoch: 27, Current best: -0.9647564434251795, Global best: -0.9647564434251795, Runtime: 2.09470 seconds\n",
      "2023/08/08 10:16:05 AM, INFO, mealpy.swarm_based.PSO.CL_PSO: >Problem: P, Epoch: 28, Current best: -0.9647564434251795, Global best: -0.9647564434251795, Runtime: 0.93346 seconds\n",
      "2023/08/08 10:16:06 AM, INFO, mealpy.swarm_based.PSO.CL_PSO: >Problem: P, Epoch: 29, Current best: -0.9647564434251795, Global best: -0.9647564434251795, Runtime: 1.35720 seconds\n",
      "2023/08/08 10:16:07 AM, INFO, mealpy.swarm_based.PSO.CL_PSO: >Problem: P, Epoch: 30, Current best: -0.9647564434251795, Global best: -0.9647564434251795, Runtime: 1.16948 seconds\n",
      "2023/08/08 10:16:09 AM, INFO, mealpy.swarm_based.PSO.CL_PSO: >Problem: P, Epoch: 31, Current best: -0.9647564434251795, Global best: -0.9647564434251795, Runtime: 1.66557 seconds\n",
      "2023/08/08 10:16:10 AM, INFO, mealpy.swarm_based.PSO.CL_PSO: >Problem: P, Epoch: 32, Current best: -0.9647564434251795, Global best: -0.9647564434251795, Runtime: 1.22858 seconds\n",
      "2023/08/08 10:16:11 AM, INFO, mealpy.swarm_based.PSO.CL_PSO: >Problem: P, Epoch: 33, Current best: -0.9647564434251795, Global best: -0.9647564434251795, Runtime: 1.02662 seconds\n",
      "2023/08/08 10:16:12 AM, INFO, mealpy.swarm_based.PSO.CL_PSO: >Problem: P, Epoch: 34, Current best: -0.9647564434251795, Global best: -0.9647564434251795, Runtime: 1.05620 seconds\n",
      "2023/08/08 10:16:14 AM, INFO, mealpy.swarm_based.PSO.CL_PSO: >Problem: P, Epoch: 35, Current best: -0.9703544238550341, Global best: -0.9703544238550341, Runtime: 1.07375 seconds\n",
      "2023/08/08 10:16:14 AM, INFO, mealpy.swarm_based.PSO.CL_PSO: >Problem: P, Epoch: 36, Current best: -0.9703544238550341, Global best: -0.9703544238550341, Runtime: 0.93133 seconds\n",
      "2023/08/08 10:16:15 AM, INFO, mealpy.swarm_based.PSO.CL_PSO: >Problem: P, Epoch: 37, Current best: -0.9719079046215082, Global best: -0.9719079046215082, Runtime: 0.86276 seconds\n",
      "2023/08/08 10:16:16 AM, INFO, mealpy.swarm_based.PSO.CL_PSO: >Problem: P, Epoch: 38, Current best: -0.9719079046215082, Global best: -0.9719079046215082, Runtime: 0.84094 seconds\n",
      "2023/08/08 10:16:17 AM, INFO, mealpy.swarm_based.PSO.CL_PSO: >Problem: P, Epoch: 39, Current best: -0.9719079046215082, Global best: -0.9719079046215082, Runtime: 0.85900 seconds\n",
      "2023/08/08 10:16:18 AM, INFO, mealpy.swarm_based.PSO.CL_PSO: >Problem: P, Epoch: 40, Current best: -0.9719079046215082, Global best: -0.9719079046215082, Runtime: 0.84072 seconds\n",
      "2023/08/08 10:16:19 AM, INFO, mealpy.swarm_based.PSO.CL_PSO: >Problem: P, Epoch: 41, Current best: -0.9719079046215082, Global best: -0.9719079046215082, Runtime: 0.64984 seconds\n",
      "2023/08/08 10:16:34 AM, INFO, mealpy.swarm_based.PSO.CL_PSO: >Problem: P, Epoch: 42, Current best: -0.9719079046215082, Global best: -0.9719079046215082, Runtime: 15.36737 seconds\n",
      "2023/08/08 10:16:40 AM, INFO, mealpy.swarm_based.PSO.CL_PSO: >Problem: P, Epoch: 43, Current best: -0.9719079046215082, Global best: -0.9719079046215082, Runtime: 5.57040 seconds\n",
      "2023/08/08 10:16:43 AM, INFO, mealpy.swarm_based.PSO.CL_PSO: >Problem: P, Epoch: 44, Current best: -0.9719079046215082, Global best: -0.9719079046215082, Runtime: 3.64214 seconds\n",
      "2023/08/08 10:16:46 AM, INFO, mealpy.swarm_based.PSO.CL_PSO: >Problem: P, Epoch: 45, Current best: -0.9719079046215082, Global best: -0.9719079046215082, Runtime: 2.66113 seconds\n",
      "2023/08/08 10:16:49 AM, INFO, mealpy.swarm_based.PSO.CL_PSO: >Problem: P, Epoch: 46, Current best: -0.9719079046215082, Global best: -0.9719079046215082, Runtime: 3.55517 seconds\n"
     ]
    },
    {
     "name": "stderr",
     "output_type": "stream",
     "text": [
      "2023/08/08 10:16:54 AM, INFO, mealpy.swarm_based.PSO.CL_PSO: >Problem: P, Epoch: 47, Current best: -0.9719079046215082, Global best: -0.9719079046215082, Runtime: 4.36036 seconds\n",
      "2023/08/08 10:16:57 AM, INFO, mealpy.swarm_based.PSO.CL_PSO: >Problem: P, Epoch: 48, Current best: -0.9719079046215082, Global best: -0.9719079046215082, Runtime: 3.30097 seconds\n",
      "2023/08/08 10:16:59 AM, INFO, mealpy.swarm_based.PSO.CL_PSO: >Problem: P, Epoch: 49, Current best: -0.9719079046215082, Global best: -0.9719079046215082, Runtime: 2.38395 seconds\n",
      "2023/08/08 10:17:03 AM, INFO, mealpy.swarm_based.PSO.CL_PSO: >Problem: P, Epoch: 50, Current best: -0.9719079046215082, Global best: -0.9719079046215082, Runtime: 3.13199 seconds\n"
     ]
    }
   ],
   "source": [
    "# Solve the optimization problem using the PSO algorithm\n",
    "best_params_pso, best_fitness_pso = pso_model.solve(svr_problem)"
   ]
  },
  {
   "cell_type": "code",
   "execution_count": 196,
   "id": "c460f6a0",
   "metadata": {},
   "outputs": [],
   "source": [
    "pso_best_kernel_encoded = int(best_params_pso[0])\n",
    "pso_best_c = best_params_pso[1]\n",
    "pso_best_gamma = best_params_pso[2]\n",
    "pso_best_epsilon = best_params_pso[3]\n",
    "pso_best_kernel_decoded = ['linear', 'poly', 'rbf', 'precomputed'][pso_best_kernel_encoded]"
   ]
  },
  {
   "cell_type": "code",
   "execution_count": 197,
   "id": "9ea1f2a4",
   "metadata": {},
   "outputs": [
    {
     "name": "stdout",
     "output_type": "stream",
     "text": [
      "PSO Best Hyperparameters:\n",
      "Kernel: rbf\n",
      "C: 675.3082014594984\n",
      "Gamma: 0.030145945579186106\n",
      "Epsilon: 0.025345863350150526\n",
      "Best Fitness (R^2): 0.9719079046215082\n"
     ]
    }
   ],
   "source": [
    "print(\"PSO Best Hyperparameters:\")\n",
    "print(\"Kernel:\", pso_best_kernel_decoded)\n",
    "print(\"C:\", pso_best_c)\n",
    "print(\"Gamma:\", pso_best_gamma)\n",
    "print(\"Epsilon:\", pso_best_epsilon)\n",
    "print(\"Best Fitness (R^2):\", -best_fitness_pso)  # Convert back to positive (R^2)"
   ]
  },
  {
   "cell_type": "markdown",
   "id": "3474e0a7",
   "metadata": {},
   "source": [
    "#### Now, let's Create our SVR() using the MEALPY PSO optimized hyperparameters"
   ]
  },
  {
   "cell_type": "code",
   "execution_count": 199,
   "id": "856cb659",
   "metadata": {},
   "outputs": [],
   "source": [
    "svr_optimized_pso = SVR(kernel=pso_best_kernel_decoded,C=pso_best_c, gamma = pso_best_gamma,epsilon = pso_best_epsilon)"
   ]
  },
  {
   "cell_type": "code",
   "execution_count": 200,
   "id": "5c47a913",
   "metadata": {},
   "outputs": [
    {
     "data": {
      "text/html": [
       "<style>#sk-container-id-16 {color: black;}#sk-container-id-16 pre{padding: 0;}#sk-container-id-16 div.sk-toggleable {background-color: white;}#sk-container-id-16 label.sk-toggleable__label {cursor: pointer;display: block;width: 100%;margin-bottom: 0;padding: 0.3em;box-sizing: border-box;text-align: center;}#sk-container-id-16 label.sk-toggleable__label-arrow:before {content: \"▸\";float: left;margin-right: 0.25em;color: #696969;}#sk-container-id-16 label.sk-toggleable__label-arrow:hover:before {color: black;}#sk-container-id-16 div.sk-estimator:hover label.sk-toggleable__label-arrow:before {color: black;}#sk-container-id-16 div.sk-toggleable__content {max-height: 0;max-width: 0;overflow: hidden;text-align: left;background-color: #f0f8ff;}#sk-container-id-16 div.sk-toggleable__content pre {margin: 0.2em;color: black;border-radius: 0.25em;background-color: #f0f8ff;}#sk-container-id-16 input.sk-toggleable__control:checked~div.sk-toggleable__content {max-height: 200px;max-width: 100%;overflow: auto;}#sk-container-id-16 input.sk-toggleable__control:checked~label.sk-toggleable__label-arrow:before {content: \"▾\";}#sk-container-id-16 div.sk-estimator input.sk-toggleable__control:checked~label.sk-toggleable__label {background-color: #d4ebff;}#sk-container-id-16 div.sk-label input.sk-toggleable__control:checked~label.sk-toggleable__label {background-color: #d4ebff;}#sk-container-id-16 input.sk-hidden--visually {border: 0;clip: rect(1px 1px 1px 1px);clip: rect(1px, 1px, 1px, 1px);height: 1px;margin: -1px;overflow: hidden;padding: 0;position: absolute;width: 1px;}#sk-container-id-16 div.sk-estimator {font-family: monospace;background-color: #f0f8ff;border: 1px dotted black;border-radius: 0.25em;box-sizing: border-box;margin-bottom: 0.5em;}#sk-container-id-16 div.sk-estimator:hover {background-color: #d4ebff;}#sk-container-id-16 div.sk-parallel-item::after {content: \"\";width: 100%;border-bottom: 1px solid gray;flex-grow: 1;}#sk-container-id-16 div.sk-label:hover label.sk-toggleable__label {background-color: #d4ebff;}#sk-container-id-16 div.sk-serial::before {content: \"\";position: absolute;border-left: 1px solid gray;box-sizing: border-box;top: 0;bottom: 0;left: 50%;z-index: 0;}#sk-container-id-16 div.sk-serial {display: flex;flex-direction: column;align-items: center;background-color: white;padding-right: 0.2em;padding-left: 0.2em;position: relative;}#sk-container-id-16 div.sk-item {position: relative;z-index: 1;}#sk-container-id-16 div.sk-parallel {display: flex;align-items: stretch;justify-content: center;background-color: white;position: relative;}#sk-container-id-16 div.sk-item::before, #sk-container-id-16 div.sk-parallel-item::before {content: \"\";position: absolute;border-left: 1px solid gray;box-sizing: border-box;top: 0;bottom: 0;left: 50%;z-index: -1;}#sk-container-id-16 div.sk-parallel-item {display: flex;flex-direction: column;z-index: 1;position: relative;background-color: white;}#sk-container-id-16 div.sk-parallel-item:first-child::after {align-self: flex-end;width: 50%;}#sk-container-id-16 div.sk-parallel-item:last-child::after {align-self: flex-start;width: 50%;}#sk-container-id-16 div.sk-parallel-item:only-child::after {width: 0;}#sk-container-id-16 div.sk-dashed-wrapped {border: 1px dashed gray;margin: 0 0.4em 0.5em 0.4em;box-sizing: border-box;padding-bottom: 0.4em;background-color: white;}#sk-container-id-16 div.sk-label label {font-family: monospace;font-weight: bold;display: inline-block;line-height: 1.2em;}#sk-container-id-16 div.sk-label-container {text-align: center;}#sk-container-id-16 div.sk-container {/* jupyter's `normalize.less` sets `[hidden] { display: none; }` but bootstrap.min.css set `[hidden] { display: none !important; }` so we also need the `!important` here to be able to override the default hidden behavior on the sphinx rendered scikit-learn.org. See: https://github.com/scikit-learn/scikit-learn/issues/21755 */display: inline-block !important;position: relative;}#sk-container-id-16 div.sk-text-repr-fallback {display: none;}</style><div id=\"sk-container-id-16\" class=\"sk-top-container\"><div class=\"sk-text-repr-fallback\"><pre>SVR(C=675.3082014594984, epsilon=0.025345863350150526,\n",
       "    gamma=0.030145945579186106)</pre><b>In a Jupyter environment, please rerun this cell to show the HTML representation or trust the notebook. <br />On GitHub, the HTML representation is unable to render, please try loading this page with nbviewer.org.</b></div><div class=\"sk-container\" hidden><div class=\"sk-item\"><div class=\"sk-estimator sk-toggleable\"><input class=\"sk-toggleable__control sk-hidden--visually\" id=\"sk-estimator-id-16\" type=\"checkbox\" checked><label for=\"sk-estimator-id-16\" class=\"sk-toggleable__label sk-toggleable__label-arrow\">SVR</label><div class=\"sk-toggleable__content\"><pre>SVR(C=675.3082014594984, epsilon=0.025345863350150526,\n",
       "    gamma=0.030145945579186106)</pre></div></div></div></div></div>"
      ],
      "text/plain": [
       "SVR(C=675.3082014594984, epsilon=0.025345863350150526,\n",
       "    gamma=0.030145945579186106)"
      ]
     },
     "execution_count": 200,
     "metadata": {},
     "output_type": "execute_result"
    }
   ],
   "source": [
    "svr_optimized_pso.fit(X_train1, y_train1.ravel())"
   ]
  },
  {
   "cell_type": "code",
   "execution_count": 201,
   "id": "19cc871a",
   "metadata": {},
   "outputs": [],
   "source": [
    "pred_test_pso = svr_optimized_pso.predict(X_test1)"
   ]
  },
  {
   "cell_type": "code",
   "execution_count": 202,
   "id": "dd501977",
   "metadata": {},
   "outputs": [
    {
     "name": "stdout",
     "output_type": "stream",
     "text": [
      "R^2 score of test set prediction using PSO : 0.9719079046215082\n"
     ]
    }
   ],
   "source": [
    "from sklearn.metrics import r2_score\n",
    "print(\"R^2 score of test set prediction using PSO :\", r2_score(y_test1,pred_test_pso))"
   ]
  },
  {
   "cell_type": "code",
   "execution_count": 210,
   "id": "65f6fcc2",
   "metadata": {},
   "outputs": [
    {
     "name": "stdout",
     "output_type": "stream",
     "text": [
      "R^2 score of Train set prediction using PSO: 0.978840873734026\n"
     ]
    }
   ],
   "source": [
    "pred_train_pso = svr_optimized_pso.predict(X_train1)\n",
    "print(\"R^2 score of Train set prediction using PSO:\", r2_score(y_train1,pred_train_pso))"
   ]
  },
  {
   "cell_type": "markdown",
   "id": "d8b012f9",
   "metadata": {},
   "source": [
    "### Yeah, Good Performance, a proof of effective hyperparameter tuning by Metaheuristic algorithms."
   ]
  },
  {
   "cell_type": "code",
   "execution_count": null,
   "id": "a7a7e450",
   "metadata": {},
   "outputs": [],
   "source": []
  },
  {
   "cell_type": "code",
   "execution_count": null,
   "id": "9fd41647",
   "metadata": {},
   "outputs": [],
   "source": []
  }
 ],
 "metadata": {
  "kernelspec": {
   "display_name": "Python 3 (ipykernel)",
   "language": "python",
   "name": "python3"
  },
  "language_info": {
   "codemirror_mode": {
    "name": "ipython",
    "version": 3
   },
   "file_extension": ".py",
   "mimetype": "text/x-python",
   "name": "python",
   "nbconvert_exporter": "python",
   "pygments_lexer": "ipython3",
   "version": "3.9.13"
  }
 },
 "nbformat": 4,
 "nbformat_minor": 5
}
